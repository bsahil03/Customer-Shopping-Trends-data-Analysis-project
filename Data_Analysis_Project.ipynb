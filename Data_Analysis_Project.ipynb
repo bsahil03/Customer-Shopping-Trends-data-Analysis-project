{
 "cells": [
  {
   "cell_type": "markdown",
   "metadata": {
    "id": "m1V69PZrqwH3"
   },
   "source": [
    "# Customer Shopping Trends \n",
    "\n",
    "\n",
    "### Import Python Modules"
   ]
  },
  {
   "cell_type": "code",
   "execution_count": 2,
   "metadata": {
    "executionInfo": {
     "elapsed": 837,
     "status": "ok",
     "timestamp": 1720493908193,
     "user": {
      "displayName": "Sahil Boricha",
      "userId": "14874923305631050682"
     },
     "user_tz": -330
    },
    "id": "D84CqcmWp3vL"
   },
   "outputs": [],
   "source": [
    "import pandas as pd\n",
    "import numpy as np\n",
    "import matplotlib.pyplot as plt\n",
    "import seaborn as sns"
   ]
  },
  {
   "cell_type": "code",
   "execution_count": 3,
   "metadata": {
    "executionInfo": {
     "elapsed": 8,
     "status": "ok",
     "timestamp": 1720493908738,
     "user": {
      "displayName": "Sahil Boricha",
      "userId": "14874923305631050682"
     },
     "user_tz": -330
    },
    "id": "uYCBIPicrAQy"
   },
   "outputs": [],
   "source": [
    "%matplotlib inline"
   ]
  },
  {
   "cell_type": "markdown",
   "metadata": {
    "id": "wIKRlZxCrboO"
   },
   "source": [
    "### Load Data as a Dataframe"
   ]
  },
  {
   "cell_type": "code",
   "execution_count": 5,
   "metadata": {
    "colab": {
     "base_uri": "https://localhost:8080/",
     "height": 356
    },
    "executionInfo": {
     "elapsed": 906,
     "status": "error",
     "timestamp": 1720493909639,
     "user": {
      "displayName": "Sahil Boricha",
      "userId": "14874923305631050682"
     },
     "user_tz": -330
    },
    "id": "K6f2P5RxrCBV",
    "outputId": "5197c2f0-d1d3-4e28-e024-e0fb59ee71e3"
   },
   "outputs": [],
   "source": [
    "file_name = \"shopping_trends.csv\"\n",
    "df = pd.read_csv(file_name,\n",
    "                 encoding='utf-8',\n",
    "                 header=0)"
   ]
  },
  {
   "cell_type": "markdown",
   "metadata": {
    "id": "oe8V1n0Rreez"
   },
   "source": [
    "### View Dataframe"
   ]
  },
  {
   "cell_type": "code",
   "execution_count": 7,
   "metadata": {
    "executionInfo": {
     "elapsed": 2107,
     "status": "aborted",
     "timestamp": 1720493908740,
     "user": {
      "displayName": "Sahil Boricha",
      "userId": "14874923305631050682"
     },
     "user_tz": -330
    },
    "id": "S0VIrx2wrXNC"
   },
   "outputs": [
    {
     "data": {
      "text/html": [
       "<div>\n",
       "<style scoped>\n",
       "    .dataframe tbody tr th:only-of-type {\n",
       "        vertical-align: middle;\n",
       "    }\n",
       "\n",
       "    .dataframe tbody tr th {\n",
       "        vertical-align: top;\n",
       "    }\n",
       "\n",
       "    .dataframe thead th {\n",
       "        text-align: right;\n",
       "    }\n",
       "</style>\n",
       "<table border=\"1\" class=\"dataframe\">\n",
       "  <thead>\n",
       "    <tr style=\"text-align: right;\">\n",
       "      <th></th>\n",
       "      <th>Customer ID</th>\n",
       "      <th>Age</th>\n",
       "      <th>Gender</th>\n",
       "      <th>Item Purchased</th>\n",
       "      <th>Category</th>\n",
       "      <th>Purchase Amount (USD)</th>\n",
       "      <th>Location</th>\n",
       "      <th>Size</th>\n",
       "      <th>Color</th>\n",
       "      <th>Season</th>\n",
       "      <th>Review Rating</th>\n",
       "      <th>Subscription Status</th>\n",
       "      <th>Shipping Type</th>\n",
       "      <th>Discount Applied</th>\n",
       "      <th>Promo Code Used</th>\n",
       "      <th>Previous Purchases</th>\n",
       "      <th>Payment Method</th>\n",
       "      <th>Frequency of Purchases</th>\n",
       "    </tr>\n",
       "  </thead>\n",
       "  <tbody>\n",
       "    <tr>\n",
       "      <th>0</th>\n",
       "      <td>1</td>\n",
       "      <td>55</td>\n",
       "      <td>Male</td>\n",
       "      <td>Blouse</td>\n",
       "      <td>Clothing</td>\n",
       "      <td>53</td>\n",
       "      <td>Kentucky</td>\n",
       "      <td>L</td>\n",
       "      <td>Gray</td>\n",
       "      <td>Winter</td>\n",
       "      <td>3.1</td>\n",
       "      <td>Yes</td>\n",
       "      <td>Express</td>\n",
       "      <td>Yes</td>\n",
       "      <td>Yes</td>\n",
       "      <td>14</td>\n",
       "      <td>Venmo</td>\n",
       "      <td>Fortnightly</td>\n",
       "    </tr>\n",
       "    <tr>\n",
       "      <th>1</th>\n",
       "      <td>2</td>\n",
       "      <td>19</td>\n",
       "      <td>Male</td>\n",
       "      <td>Sweater</td>\n",
       "      <td>Clothing</td>\n",
       "      <td>64</td>\n",
       "      <td>Maine</td>\n",
       "      <td>L</td>\n",
       "      <td>Maroon</td>\n",
       "      <td>Winter</td>\n",
       "      <td>3.1</td>\n",
       "      <td>Yes</td>\n",
       "      <td>Express</td>\n",
       "      <td>Yes</td>\n",
       "      <td>Yes</td>\n",
       "      <td>2</td>\n",
       "      <td>Cash</td>\n",
       "      <td>Fortnightly</td>\n",
       "    </tr>\n",
       "    <tr>\n",
       "      <th>2</th>\n",
       "      <td>3</td>\n",
       "      <td>50</td>\n",
       "      <td>Male</td>\n",
       "      <td>Jeans</td>\n",
       "      <td>Clothing</td>\n",
       "      <td>73</td>\n",
       "      <td>Massachusetts</td>\n",
       "      <td>S</td>\n",
       "      <td>Maroon</td>\n",
       "      <td>Spring</td>\n",
       "      <td>3.1</td>\n",
       "      <td>Yes</td>\n",
       "      <td>Free Shipping</td>\n",
       "      <td>Yes</td>\n",
       "      <td>Yes</td>\n",
       "      <td>23</td>\n",
       "      <td>Credit Card</td>\n",
       "      <td>Weekly</td>\n",
       "    </tr>\n",
       "    <tr>\n",
       "      <th>3</th>\n",
       "      <td>4</td>\n",
       "      <td>21</td>\n",
       "      <td>Male</td>\n",
       "      <td>Sandals</td>\n",
       "      <td>Footwear</td>\n",
       "      <td>90</td>\n",
       "      <td>Rhode Island</td>\n",
       "      <td>M</td>\n",
       "      <td>Maroon</td>\n",
       "      <td>Spring</td>\n",
       "      <td>3.5</td>\n",
       "      <td>Yes</td>\n",
       "      <td>Next Day Air</td>\n",
       "      <td>Yes</td>\n",
       "      <td>Yes</td>\n",
       "      <td>49</td>\n",
       "      <td>PayPal</td>\n",
       "      <td>Weekly</td>\n",
       "    </tr>\n",
       "    <tr>\n",
       "      <th>4</th>\n",
       "      <td>5</td>\n",
       "      <td>45</td>\n",
       "      <td>Male</td>\n",
       "      <td>Blouse</td>\n",
       "      <td>Clothing</td>\n",
       "      <td>49</td>\n",
       "      <td>Oregon</td>\n",
       "      <td>M</td>\n",
       "      <td>Turquoise</td>\n",
       "      <td>Spring</td>\n",
       "      <td>2.7</td>\n",
       "      <td>Yes</td>\n",
       "      <td>Free Shipping</td>\n",
       "      <td>Yes</td>\n",
       "      <td>Yes</td>\n",
       "      <td>31</td>\n",
       "      <td>PayPal</td>\n",
       "      <td>Annually</td>\n",
       "    </tr>\n",
       "  </tbody>\n",
       "</table>\n",
       "</div>"
      ],
      "text/plain": [
       "   Customer ID  Age Gender Item Purchased  Category  Purchase Amount (USD)  \\\n",
       "0            1   55   Male         Blouse  Clothing                     53   \n",
       "1            2   19   Male        Sweater  Clothing                     64   \n",
       "2            3   50   Male          Jeans  Clothing                     73   \n",
       "3            4   21   Male        Sandals  Footwear                     90   \n",
       "4            5   45   Male         Blouse  Clothing                     49   \n",
       "\n",
       "        Location Size      Color  Season  Review Rating Subscription Status  \\\n",
       "0       Kentucky    L       Gray  Winter            3.1                 Yes   \n",
       "1          Maine    L     Maroon  Winter            3.1                 Yes   \n",
       "2  Massachusetts    S     Maroon  Spring            3.1                 Yes   \n",
       "3   Rhode Island    M     Maroon  Spring            3.5                 Yes   \n",
       "4         Oregon    M  Turquoise  Spring            2.7                 Yes   \n",
       "\n",
       "   Shipping Type Discount Applied Promo Code Used  Previous Purchases  \\\n",
       "0        Express              Yes             Yes                  14   \n",
       "1        Express              Yes             Yes                   2   \n",
       "2  Free Shipping              Yes             Yes                  23   \n",
       "3   Next Day Air              Yes             Yes                  49   \n",
       "4  Free Shipping              Yes             Yes                  31   \n",
       "\n",
       "  Payment Method Frequency of Purchases  \n",
       "0          Venmo            Fortnightly  \n",
       "1           Cash            Fortnightly  \n",
       "2    Credit Card                 Weekly  \n",
       "3         PayPal                 Weekly  \n",
       "4         PayPal               Annually  "
      ]
     },
     "execution_count": 7,
     "metadata": {},
     "output_type": "execute_result"
    }
   ],
   "source": [
    "df.head(5)"
   ]
  },
  {
   "cell_type": "markdown",
   "metadata": {
    "id": "3auL-LLKrr_B"
   },
   "source": [
    "### Dataframe Info"
   ]
  },
  {
   "cell_type": "code",
   "execution_count": 9,
   "metadata": {
    "executionInfo": {
     "elapsed": 2106,
     "status": "aborted",
     "timestamp": 1720493908741,
     "user": {
      "displayName": "Sahil Boricha",
      "userId": "14874923305631050682"
     },
     "user_tz": -330
    },
    "id": "NITTJFPsrgZJ"
   },
   "outputs": [
    {
     "name": "stdout",
     "output_type": "stream",
     "text": [
      "<class 'pandas.core.frame.DataFrame'>\n",
      "RangeIndex: 3900 entries, 0 to 3899\n",
      "Data columns (total 18 columns):\n",
      " #   Column                  Non-Null Count  Dtype  \n",
      "---  ------                  --------------  -----  \n",
      " 0   Customer ID             3900 non-null   int64  \n",
      " 1   Age                     3900 non-null   int64  \n",
      " 2   Gender                  3900 non-null   object \n",
      " 3   Item Purchased          3900 non-null   object \n",
      " 4   Category                3900 non-null   object \n",
      " 5   Purchase Amount (USD)   3900 non-null   int64  \n",
      " 6   Location                3900 non-null   object \n",
      " 7   Size                    3900 non-null   object \n",
      " 8   Color                   3900 non-null   object \n",
      " 9   Season                  3900 non-null   object \n",
      " 10  Review Rating           3900 non-null   float64\n",
      " 11  Subscription Status     3900 non-null   object \n",
      " 12  Shipping Type           3900 non-null   object \n",
      " 13  Discount Applied        3900 non-null   object \n",
      " 14  Promo Code Used         3900 non-null   object \n",
      " 15  Previous Purchases      3900 non-null   int64  \n",
      " 16  Payment Method          3900 non-null   object \n",
      " 17  Frequency of Purchases  3900 non-null   object \n",
      "dtypes: float64(1), int64(4), object(13)\n",
      "memory usage: 548.6+ KB\n"
     ]
    }
   ],
   "source": [
    "df.info()"
   ]
  },
  {
   "cell_type": "code",
   "execution_count": 10,
   "metadata": {
    "executionInfo": {
     "elapsed": 2106,
     "status": "aborted",
     "timestamp": 1720493908742,
     "user": {
      "displayName": "Sahil Boricha",
      "userId": "14874923305631050682"
     },
     "user_tz": -330
    },
    "id": "ofdn9KPpruGP"
   },
   "outputs": [
    {
     "data": {
      "text/html": [
       "<div>\n",
       "<style scoped>\n",
       "    .dataframe tbody tr th:only-of-type {\n",
       "        vertical-align: middle;\n",
       "    }\n",
       "\n",
       "    .dataframe tbody tr th {\n",
       "        vertical-align: top;\n",
       "    }\n",
       "\n",
       "    .dataframe thead th {\n",
       "        text-align: right;\n",
       "    }\n",
       "</style>\n",
       "<table border=\"1\" class=\"dataframe\">\n",
       "  <thead>\n",
       "    <tr style=\"text-align: right;\">\n",
       "      <th></th>\n",
       "      <th>Customer ID</th>\n",
       "      <th>Age</th>\n",
       "      <th>Purchase Amount (USD)</th>\n",
       "      <th>Review Rating</th>\n",
       "      <th>Previous Purchases</th>\n",
       "    </tr>\n",
       "  </thead>\n",
       "  <tbody>\n",
       "    <tr>\n",
       "      <th>count</th>\n",
       "      <td>3900.000000</td>\n",
       "      <td>3900.000000</td>\n",
       "      <td>3900.000000</td>\n",
       "      <td>3900.000000</td>\n",
       "      <td>3900.000000</td>\n",
       "    </tr>\n",
       "    <tr>\n",
       "      <th>mean</th>\n",
       "      <td>1950.500000</td>\n",
       "      <td>44.068462</td>\n",
       "      <td>59.764359</td>\n",
       "      <td>3.749949</td>\n",
       "      <td>25.351538</td>\n",
       "    </tr>\n",
       "    <tr>\n",
       "      <th>std</th>\n",
       "      <td>1125.977353</td>\n",
       "      <td>15.207589</td>\n",
       "      <td>23.685392</td>\n",
       "      <td>0.716223</td>\n",
       "      <td>14.447125</td>\n",
       "    </tr>\n",
       "    <tr>\n",
       "      <th>min</th>\n",
       "      <td>1.000000</td>\n",
       "      <td>18.000000</td>\n",
       "      <td>20.000000</td>\n",
       "      <td>2.500000</td>\n",
       "      <td>1.000000</td>\n",
       "    </tr>\n",
       "    <tr>\n",
       "      <th>25%</th>\n",
       "      <td>975.750000</td>\n",
       "      <td>31.000000</td>\n",
       "      <td>39.000000</td>\n",
       "      <td>3.100000</td>\n",
       "      <td>13.000000</td>\n",
       "    </tr>\n",
       "    <tr>\n",
       "      <th>50%</th>\n",
       "      <td>1950.500000</td>\n",
       "      <td>44.000000</td>\n",
       "      <td>60.000000</td>\n",
       "      <td>3.700000</td>\n",
       "      <td>25.000000</td>\n",
       "    </tr>\n",
       "    <tr>\n",
       "      <th>75%</th>\n",
       "      <td>2925.250000</td>\n",
       "      <td>57.000000</td>\n",
       "      <td>81.000000</td>\n",
       "      <td>4.400000</td>\n",
       "      <td>38.000000</td>\n",
       "    </tr>\n",
       "    <tr>\n",
       "      <th>max</th>\n",
       "      <td>3900.000000</td>\n",
       "      <td>70.000000</td>\n",
       "      <td>100.000000</td>\n",
       "      <td>5.000000</td>\n",
       "      <td>50.000000</td>\n",
       "    </tr>\n",
       "  </tbody>\n",
       "</table>\n",
       "</div>"
      ],
      "text/plain": [
       "       Customer ID          Age  Purchase Amount (USD)  Review Rating  \\\n",
       "count  3900.000000  3900.000000            3900.000000    3900.000000   \n",
       "mean   1950.500000    44.068462              59.764359       3.749949   \n",
       "std    1125.977353    15.207589              23.685392       0.716223   \n",
       "min       1.000000    18.000000              20.000000       2.500000   \n",
       "25%     975.750000    31.000000              39.000000       3.100000   \n",
       "50%    1950.500000    44.000000              60.000000       3.700000   \n",
       "75%    2925.250000    57.000000              81.000000       4.400000   \n",
       "max    3900.000000    70.000000             100.000000       5.000000   \n",
       "\n",
       "       Previous Purchases  \n",
       "count         3900.000000  \n",
       "mean            25.351538  \n",
       "std             14.447125  \n",
       "min              1.000000  \n",
       "25%             13.000000  \n",
       "50%             25.000000  \n",
       "75%             38.000000  \n",
       "max             50.000000  "
      ]
     },
     "execution_count": 10,
     "metadata": {},
     "output_type": "execute_result"
    }
   ],
   "source": [
    "df.describe()"
   ]
  },
  {
   "cell_type": "code",
   "execution_count": 11,
   "metadata": {
    "executionInfo": {
     "elapsed": 2105,
     "status": "aborted",
     "timestamp": 1720493908743,
     "user": {
      "displayName": "Sahil Boricha",
      "userId": "14874923305631050682"
     },
     "user_tz": -330
    },
    "id": "Y1rWFF6Zrwc-"
   },
   "outputs": [
    {
     "name": "stdout",
     "output_type": "stream",
     "text": [
      "Number of Rows: 3900\n",
      "Number of Columns: 18\n"
     ]
    }
   ],
   "source": [
    "print(f\"Number of Rows: {df.shape[0]}\")\n",
    "print(f\"Number of Columns: {df.shape[1]}\")"
   ]
  },
  {
   "cell_type": "markdown",
   "metadata": {
    "id": "mqGJXY77sJ2y"
   },
   "source": [
    "### Check for Null Values"
   ]
  },
  {
   "cell_type": "code",
   "execution_count": 13,
   "metadata": {
    "executionInfo": {
     "elapsed": 2105,
     "status": "aborted",
     "timestamp": 1720493908745,
     "user": {
      "displayName": "Sahil Boricha",
      "userId": "14874923305631050682"
     },
     "user_tz": -330
    },
    "id": "JzuX5-Mcr7Zs"
   },
   "outputs": [
    {
     "data": {
      "text/plain": [
       "Customer ID               0\n",
       "Age                       0\n",
       "Gender                    0\n",
       "Item Purchased            0\n",
       "Category                  0\n",
       "Purchase Amount (USD)     0\n",
       "Location                  0\n",
       "Size                      0\n",
       "Color                     0\n",
       "Season                    0\n",
       "Review Rating             0\n",
       "Subscription Status       0\n",
       "Shipping Type             0\n",
       "Discount Applied          0\n",
       "Promo Code Used           0\n",
       "Previous Purchases        0\n",
       "Payment Method            0\n",
       "Frequency of Purchases    0\n",
       "dtype: int64"
      ]
     },
     "execution_count": 13,
     "metadata": {},
     "output_type": "execute_result"
    }
   ],
   "source": [
    "df.isna().sum()"
   ]
  },
  {
   "cell_type": "code",
   "execution_count": 14,
   "metadata": {
    "executionInfo": {
     "elapsed": 2105,
     "status": "aborted",
     "timestamp": 1720493908746,
     "user": {
      "displayName": "Sahil Boricha",
      "userId": "14874923305631050682"
     },
     "user_tz": -330
    },
    "id": "O0TQ3_sysNWr"
   },
   "outputs": [
    {
     "data": {
      "text/plain": [
       "Customer ID               0\n",
       "Age                       0\n",
       "Gender                    0\n",
       "Item Purchased            0\n",
       "Category                  0\n",
       "Purchase Amount (USD)     0\n",
       "Location                  0\n",
       "Size                      0\n",
       "Color                     0\n",
       "Season                    0\n",
       "Review Rating             0\n",
       "Subscription Status       0\n",
       "Shipping Type             0\n",
       "Discount Applied          0\n",
       "Promo Code Used           0\n",
       "Previous Purchases        0\n",
       "Payment Method            0\n",
       "Frequency of Purchases    0\n",
       "dtype: int64"
      ]
     },
     "execution_count": 14,
     "metadata": {},
     "output_type": "execute_result"
    }
   ],
   "source": [
    "df.isnull().sum()"
   ]
  },
  {
   "cell_type": "markdown",
   "metadata": {
    "id": "ewV_wFc4sUdi"
   },
   "source": [
    "### Check for Duplicates"
   ]
  },
  {
   "cell_type": "code",
   "execution_count": 16,
   "metadata": {
    "executionInfo": {
     "elapsed": 58,
     "status": "aborted",
     "timestamp": 1720493909641,
     "user": {
      "displayName": "Sahil Boricha",
      "userId": "14874923305631050682"
     },
     "user_tz": -330
    },
    "id": "TikrJMwesQYi"
   },
   "outputs": [
    {
     "data": {
      "text/plain": [
       "0"
      ]
     },
     "execution_count": 16,
     "metadata": {},
     "output_type": "execute_result"
    }
   ],
   "source": [
    "df.duplicated().sum()"
   ]
  },
  {
   "cell_type": "markdown",
   "metadata": {
    "id": "MJKvDpJttNvH"
   },
   "source": [
    "### Check out what Columns we have in this dataframe"
   ]
  },
  {
   "cell_type": "code",
   "execution_count": 18,
   "metadata": {
    "executionInfo": {
     "elapsed": 63,
     "status": "aborted",
     "timestamp": 1720493909646,
     "user": {
      "displayName": "Sahil Boricha",
      "userId": "14874923305631050682"
     },
     "user_tz": -330
    },
    "id": "weY5slYjtOIp"
   },
   "outputs": [
    {
     "data": {
      "text/plain": [
       "Index(['Customer ID', 'Age', 'Gender', 'Item Purchased', 'Category',\n",
       "       'Purchase Amount (USD)', 'Location', 'Size', 'Color', 'Season',\n",
       "       'Review Rating', 'Subscription Status', 'Shipping Type',\n",
       "       'Discount Applied', 'Promo Code Used', 'Previous Purchases',\n",
       "       'Payment Method', 'Frequency of Purchases'],\n",
       "      dtype='object')"
      ]
     },
     "execution_count": 18,
     "metadata": {},
     "output_type": "execute_result"
    }
   ],
   "source": [
    "df.columns"
   ]
  },
  {
   "cell_type": "markdown",
   "metadata": {
    "id": "Z-yrlgh9sgaB"
   },
   "source": [
    "### Histogram of Customer Age"
   ]
  },
  {
   "cell_type": "code",
   "execution_count": 20,
   "metadata": {
    "executionInfo": {
     "elapsed": 64,
     "status": "aborted",
     "timestamp": 1720493909648,
     "user": {
      "displayName": "Sahil Boricha",
      "userId": "14874923305631050682"
     },
     "user_tz": -330
    },
    "id": "m0yyhXousXI5"
   },
   "outputs": [
    {
     "data": {
      "image/png": "[encoded data removed]",
      "text/plain": [
       "<Figure size 640x480 with 1 Axes>"
      ]
     },
     "metadata": {},
     "output_type": "display_data"
    }
   ],
   "source": [
    "sns.histplot(x=\"Age\",\n",
    "             data=df)\n",
    "plt.title(\"Histogram of Customer Age\")\n",
    "plt.xlabel(\"Age\")\n",
    "plt.ylabel(\"Counts\")\n",
    "plt.show()"
   ]
  },
  {
   "cell_type": "markdown",
   "metadata": {
    "id": "YKrSpP6rte5M"
   },
   "source": [
    "### Barplot of Gender"
   ]
  },
  {
   "cell_type": "code",
   "execution_count": 22,
   "metadata": {
    "executionInfo": {
     "elapsed": 66,
     "status": "aborted",
     "timestamp": 1720493909650,
     "user": {
      "displayName": "Sahil Boricha",
      "userId": "14874923305631050682"
     },
     "user_tz": -330
    },
    "id": "C7J3MFJ8teYY"
   },
   "outputs": [
    {
     "data": {
      "image/png": "[encoded data removed]",
      "text/plain": [
       "<Figure size 640x480 with 1 Axes>"
      ]
     },
     "metadata": {},
     "output_type": "display_data"
    }
   ],
   "source": [
    "df[\"Gender\"]. \\\n",
    "    value_counts(). \\\n",
    "    plot(\n",
    "        kind = 'bar',\n",
    "        color = ['blue', 'orange'])\n",
    "plt.title(\"Bar Plot of Customer Gender\")\n",
    "plt.xlabel(\"Value Counts\")\n",
    "plt.ylabel(\"Gender\")\n",
    "plt.show()"
   ]
  },
  {
   "cell_type": "markdown",
   "metadata": {
    "id": "D5PpU1BzwMWE"
   },
   "source": [
    "### Purchased by Category\n",
    "\n",
    "Which categories have the highest average purchase amount (in USD)?"
   ]
  },
  {
   "cell_type": "code",
   "execution_count": 25,
   "metadata": {
    "executionInfo": {
     "elapsed": 67,
     "status": "aborted",
     "timestamp": 1720493909651,
     "user": {
      "displayName": "Sahil Boricha",
      "userId": "14874923305631050682"
     },
     "user_tz": -330
    },
    "id": "yOJiAeJBssl_"
   },
   "outputs": [
    {
     "name": "stdout",
     "output_type": "stream",
     "text": [
      "             Purchase Amount (USD)\n",
      "Category                          \n",
      "Footwear                     60.26\n",
      "Clothing                     60.03\n",
      "Accessories                  59.84\n",
      "Outerwear                    57.17\n"
     ]
    }
   ],
   "source": [
    "res = df.groupby(\"Category\")[\"Purchase Amount (USD)\"]. \\\n",
    "                mean(). \\\n",
    "                sort_values(ascending=False)\n",
    "res = pd.DataFrame(res)\n",
    "res[\"Purchase Amount (USD)\"] = res[\"Purchase Amount (USD)\"]. \\\n",
    "                                    apply(lambda x: np.round(x, 2))\n",
    "print(res)"
   ]
  },
  {
   "cell_type": "markdown",
   "metadata": {
    "id": "__jZWSGHxvOX"
   },
   "source": [
    "### Distribution of Subscription Counts"
   ]
  },
  {
   "cell_type": "code",
   "execution_count": 27,
   "metadata": {
    "executionInfo": {
     "elapsed": 66,
     "status": "aborted",
     "timestamp": 1720493909651,
     "user": {
      "displayName": "Sahil Boricha",
      "userId": "14874923305631050682"
     },
     "user_tz": -330
    },
    "id": "BAP0x-yWwi42"
   },
   "outputs": [
    {
     "data": {
      "image/png": "[encoded data removed]",
      "text/plain": [
       "<Figure size 640x480 with 1 Axes>"
      ]
     },
     "metadata": {},
     "output_type": "display_data"
    }
   ],
   "source": [
    "df[\"Subscription Status\"].value_counts(). \\\n",
    "    plot(kind=\"pie\",\n",
    "         explode = (0, 0.1),\n",
    "         autopct='%1.1f%%')\n",
    "plt.title(\"Distribution of Subscription Status\")\n",
    "plt.show()"
   ]
  },
  {
   "cell_type": "markdown",
   "metadata": {
    "id": "FSY8xHerygWf"
   },
   "source": [
    "Almost 73% of the Customers do not seem to be subscribed."
   ]
  },
  {
   "cell_type": "markdown",
   "metadata": {
    "id": "v-13AIx30qyn"
   },
   "source": [
    "### Purchased Amounts (USD) by Season"
   ]
  },
  {
   "cell_type": "code",
   "execution_count": 30,
   "metadata": {
    "executionInfo": {
     "elapsed": 68,
     "status": "aborted",
     "timestamp": 1720493909653,
     "user": {
      "displayName": "Sahil Boricha",
      "userId": "14874923305631050682"
     },
     "user_tz": -330
    },
    "id": "3NshybMPx5BL"
   },
   "outputs": [
    {
     "data": {
      "text/html": [
       "<div>\n",
       "<style scoped>\n",
       "    .dataframe tbody tr th:only-of-type {\n",
       "        vertical-align: middle;\n",
       "    }\n",
       "\n",
       "    .dataframe tbody tr th {\n",
       "        vertical-align: top;\n",
       "    }\n",
       "\n",
       "    .dataframe thead th {\n",
       "        text-align: right;\n",
       "    }\n",
       "</style>\n",
       "<table border=\"1\" class=\"dataframe\">\n",
       "  <thead>\n",
       "    <tr style=\"text-align: right;\">\n",
       "      <th></th>\n",
       "      <th>Purchase Amount (USD)</th>\n",
       "      <th>Percentages</th>\n",
       "    </tr>\n",
       "    <tr>\n",
       "      <th>Season</th>\n",
       "      <th></th>\n",
       "      <th></th>\n",
       "    </tr>\n",
       "  </thead>\n",
       "  <tbody>\n",
       "    <tr>\n",
       "      <th>Fall</th>\n",
       "      <td>60018</td>\n",
       "      <td>25.75</td>\n",
       "    </tr>\n",
       "    <tr>\n",
       "      <th>Spring</th>\n",
       "      <td>58679</td>\n",
       "      <td>25.18</td>\n",
       "    </tr>\n",
       "    <tr>\n",
       "      <th>Winter</th>\n",
       "      <td>58607</td>\n",
       "      <td>25.14</td>\n",
       "    </tr>\n",
       "    <tr>\n",
       "      <th>Summer</th>\n",
       "      <td>55777</td>\n",
       "      <td>23.93</td>\n",
       "    </tr>\n",
       "  </tbody>\n",
       "</table>\n",
       "</div>"
      ],
      "text/plain": [
       "        Purchase Amount (USD)  Percentages\n",
       "Season                                    \n",
       "Fall                    60018        25.75\n",
       "Spring                  58679        25.18\n",
       "Winter                  58607        25.14\n",
       "Summer                  55777        23.93"
      ]
     },
     "execution_count": 30,
     "metadata": {},
     "output_type": "execute_result"
    }
   ],
   "source": [
    "seasonal_purchases = df.groupby(\"Season\")[\"Purchase Amount (USD)\"]. \\\n",
    "                                        sum().sort_values(\n",
    "                                                ascending=False)\n",
    "seasonal_purchases = pd.DataFrame(seasonal_purchases)\n",
    "\n",
    "# convert to percentages\n",
    "total_sum = seasonal_purchases[\"Purchase Amount (USD)\"].sum()\n",
    "seasonal_purchases[\"Percentages\"] = seasonal_purchases[\n",
    "        \"Purchase Amount (USD)\"].apply(\n",
    "            lambda x: np.round(\n",
    "                ((x/total_sum) * 100), 2))\n",
    "seasonal_purchases"
   ]
  },
  {
   "cell_type": "markdown",
   "metadata": {
    "id": "vKCtnxa-21zH"
   },
   "source": [
    "### Box Plot of Purchase Amount by Frequency"
   ]
  },
  {
   "cell_type": "code",
   "execution_count": 33,
   "metadata": {
    "executionInfo": {
     "elapsed": 69,
     "status": "aborted",
     "timestamp": 1720493909654,
     "user": {
      "displayName": "Sahil Boricha",
      "userId": "14874923305631050682"
     },
     "user_tz": -330
    },
    "id": "yMZbOmRo1Fgg"
   },
   "outputs": [
    {
     "data": {
      "text/plain": [
       "<Figure size 1500x1200 with 0 Axes>"
      ]
     },
     "metadata": {},
     "output_type": "display_data"
    },
    {
     "data": {
      "image/png": "[encoded data removed]",
      "text/plain": [
       "<Figure size 640x480 with 1 Axes>"
      ]
     },
     "metadata": {},
     "output_type": "display_data"
    }
   ],
   "source": [
    "plt.figure(figsize=(15,12))\n",
    "ax = df.boxplot(\n",
    "        column=\"Purchase Amount (USD)\",\n",
    "        by=\"Frequency of Purchases\")\n",
    "# plt.title(\"Box Plot of Purchase Amount by Frequency\")\n",
    "plt.tight_layout()\n",
    "plt.show()"
   ]
  },
  {
   "cell_type": "markdown",
   "metadata": {
    "id": "okT2Rwz04UV1"
   },
   "source": [
    "### Preferred Payment Methods"
   ]
  },
  {
   "cell_type": "code",
   "execution_count": 35,
   "metadata": {
    "executionInfo": {
     "elapsed": 69,
     "status": "aborted",
     "timestamp": 1720493909655,
     "user": {
      "displayName": "Sahil Boricha",
      "userId": "14874923305631050682"
     },
     "user_tz": -330
    },
    "id": "PsFByntm3Gsf"
   },
   "outputs": [
    {
     "data": {
      "text/html": [
       "<div>\n",
       "<style scoped>\n",
       "    .dataframe tbody tr th:only-of-type {\n",
       "        vertical-align: middle;\n",
       "    }\n",
       "\n",
       "    .dataframe tbody tr th {\n",
       "        vertical-align: top;\n",
       "    }\n",
       "\n",
       "    .dataframe thead th {\n",
       "        text-align: right;\n",
       "    }\n",
       "</style>\n",
       "<table border=\"1\" class=\"dataframe\">\n",
       "  <thead>\n",
       "    <tr style=\"text-align: right;\">\n",
       "      <th></th>\n",
       "      <th>count</th>\n",
       "    </tr>\n",
       "    <tr>\n",
       "      <th>Payment Method</th>\n",
       "      <th></th>\n",
       "    </tr>\n",
       "  </thead>\n",
       "  <tbody>\n",
       "    <tr>\n",
       "      <th>PayPal</th>\n",
       "      <td>677</td>\n",
       "    </tr>\n",
       "    <tr>\n",
       "      <th>Credit Card</th>\n",
       "      <td>671</td>\n",
       "    </tr>\n",
       "    <tr>\n",
       "      <th>Cash</th>\n",
       "      <td>670</td>\n",
       "    </tr>\n",
       "    <tr>\n",
       "      <th>Debit Card</th>\n",
       "      <td>636</td>\n",
       "    </tr>\n",
       "    <tr>\n",
       "      <th>Venmo</th>\n",
       "      <td>634</td>\n",
       "    </tr>\n",
       "    <tr>\n",
       "      <th>Bank Transfer</th>\n",
       "      <td>612</td>\n",
       "    </tr>\n",
       "  </tbody>\n",
       "</table>\n",
       "</div>"
      ],
      "text/plain": [
       "                count\n",
       "Payment Method       \n",
       "PayPal            677\n",
       "Credit Card       671\n",
       "Cash              670\n",
       "Debit Card        636\n",
       "Venmo             634\n",
       "Bank Transfer     612"
      ]
     },
     "execution_count": 35,
     "metadata": {},
     "output_type": "execute_result"
    }
   ],
   "source": [
    "pd.DataFrame(\n",
    "    df[\"Payment Method\"]. \\\n",
    "    value_counts(). \\\n",
    "    sort_values(ascending=False))"
   ]
  },
  {
   "cell_type": "markdown",
   "metadata": {
    "id": "szrnym446Lya"
   },
   "source": [
    "### Items Purchased by Location"
   ]
  },
  {
   "cell_type": "code",
   "execution_count": 38,
   "metadata": {
    "executionInfo": {
     "elapsed": 70,
     "status": "aborted",
     "timestamp": 1720493909656,
     "user": {
      "displayName": "Sahil Boricha",
      "userId": "14874923305631050682"
     },
     "user_tz": -330
    },
    "id": "2vJefSuX4jEb"
   },
   "outputs": [
    {
     "data": {
      "text/html": [
       "<div>\n",
       "<style scoped>\n",
       "    .dataframe tbody tr th:only-of-type {\n",
       "        vertical-align: middle;\n",
       "    }\n",
       "\n",
       "    .dataframe tbody tr th {\n",
       "        vertical-align: top;\n",
       "    }\n",
       "\n",
       "    .dataframe thead th {\n",
       "        text-align: right;\n",
       "    }\n",
       "</style>\n",
       "<table border=\"1\" class=\"dataframe\">\n",
       "  <thead>\n",
       "    <tr style=\"text-align: right;\">\n",
       "      <th>Item Purchased</th>\n",
       "      <th>Backpack</th>\n",
       "      <th>Belt</th>\n",
       "      <th>Blouse</th>\n",
       "      <th>Boots</th>\n",
       "      <th>Coat</th>\n",
       "      <th>Dress</th>\n",
       "      <th>Gloves</th>\n",
       "      <th>Handbag</th>\n",
       "      <th>Hat</th>\n",
       "      <th>Hoodie</th>\n",
       "      <th>...</th>\n",
       "      <th>Scarf</th>\n",
       "      <th>Shirt</th>\n",
       "      <th>Shoes</th>\n",
       "      <th>Shorts</th>\n",
       "      <th>Skirt</th>\n",
       "      <th>Sneakers</th>\n",
       "      <th>Socks</th>\n",
       "      <th>Sunglasses</th>\n",
       "      <th>Sweater</th>\n",
       "      <th>T-shirt</th>\n",
       "    </tr>\n",
       "    <tr>\n",
       "      <th>Location</th>\n",
       "      <th></th>\n",
       "      <th></th>\n",
       "      <th></th>\n",
       "      <th></th>\n",
       "      <th></th>\n",
       "      <th></th>\n",
       "      <th></th>\n",
       "      <th></th>\n",
       "      <th></th>\n",
       "      <th></th>\n",
       "      <th></th>\n",
       "      <th></th>\n",
       "      <th></th>\n",
       "      <th></th>\n",
       "      <th></th>\n",
       "      <th></th>\n",
       "      <th></th>\n",
       "      <th></th>\n",
       "      <th></th>\n",
       "      <th></th>\n",
       "      <th></th>\n",
       "    </tr>\n",
       "  </thead>\n",
       "  <tbody>\n",
       "    <tr>\n",
       "      <th>Alabama</th>\n",
       "      <td>74.0</td>\n",
       "      <td>26.50</td>\n",
       "      <td>52.0</td>\n",
       "      <td>73.67</td>\n",
       "      <td>54.50</td>\n",
       "      <td>55.20</td>\n",
       "      <td>85.00</td>\n",
       "      <td>57.67</td>\n",
       "      <td>76.00</td>\n",
       "      <td>53.00</td>\n",
       "      <td>...</td>\n",
       "      <td>75.33</td>\n",
       "      <td>48.2</td>\n",
       "      <td>54.33</td>\n",
       "      <td>49.00</td>\n",
       "      <td>68.67</td>\n",
       "      <td>79.50</td>\n",
       "      <td>93.50</td>\n",
       "      <td>62.67</td>\n",
       "      <td>40.50</td>\n",
       "      <td>52.50</td>\n",
       "    </tr>\n",
       "    <tr>\n",
       "      <th>Alaska</th>\n",
       "      <td>74.6</td>\n",
       "      <td>76.75</td>\n",
       "      <td>67.5</td>\n",
       "      <td>56.00</td>\n",
       "      <td>45.50</td>\n",
       "      <td>74.50</td>\n",
       "      <td>66.33</td>\n",
       "      <td>46.00</td>\n",
       "      <td>52.67</td>\n",
       "      <td>56.50</td>\n",
       "      <td>...</td>\n",
       "      <td>45.00</td>\n",
       "      <td>59.5</td>\n",
       "      <td>80.00</td>\n",
       "      <td>76.67</td>\n",
       "      <td>87.33</td>\n",
       "      <td>73.33</td>\n",
       "      <td>74.25</td>\n",
       "      <td>83.00</td>\n",
       "      <td>50.33</td>\n",
       "      <td>56.75</td>\n",
       "    </tr>\n",
       "    <tr>\n",
       "      <th>Arizona</th>\n",
       "      <td>48.6</td>\n",
       "      <td>84.50</td>\n",
       "      <td>61.0</td>\n",
       "      <td>NaN</td>\n",
       "      <td>65.33</td>\n",
       "      <td>71.00</td>\n",
       "      <td>87.00</td>\n",
       "      <td>58.67</td>\n",
       "      <td>87.00</td>\n",
       "      <td>66.67</td>\n",
       "      <td>...</td>\n",
       "      <td>53.50</td>\n",
       "      <td>80.0</td>\n",
       "      <td>87.00</td>\n",
       "      <td>46.00</td>\n",
       "      <td>68.50</td>\n",
       "      <td>78.50</td>\n",
       "      <td>61.00</td>\n",
       "      <td>66.00</td>\n",
       "      <td>70.40</td>\n",
       "      <td>62.00</td>\n",
       "    </tr>\n",
       "    <tr>\n",
       "      <th>Arkansas</th>\n",
       "      <td>90.0</td>\n",
       "      <td>55.00</td>\n",
       "      <td>66.0</td>\n",
       "      <td>50.00</td>\n",
       "      <td>54.25</td>\n",
       "      <td>62.80</td>\n",
       "      <td>64.33</td>\n",
       "      <td>50.00</td>\n",
       "      <td>35.00</td>\n",
       "      <td>55.25</td>\n",
       "      <td>...</td>\n",
       "      <td>67.50</td>\n",
       "      <td>59.0</td>\n",
       "      <td>59.50</td>\n",
       "      <td>95.00</td>\n",
       "      <td>44.50</td>\n",
       "      <td>69.00</td>\n",
       "      <td>60.50</td>\n",
       "      <td>56.00</td>\n",
       "      <td>71.50</td>\n",
       "      <td>52.00</td>\n",
       "    </tr>\n",
       "    <tr>\n",
       "      <th>California</th>\n",
       "      <td>57.4</td>\n",
       "      <td>61.67</td>\n",
       "      <td>39.5</td>\n",
       "      <td>62.50</td>\n",
       "      <td>55.00</td>\n",
       "      <td>58.43</td>\n",
       "      <td>53.00</td>\n",
       "      <td>65.25</td>\n",
       "      <td>49.00</td>\n",
       "      <td>56.00</td>\n",
       "      <td>...</td>\n",
       "      <td>54.50</td>\n",
       "      <td>42.8</td>\n",
       "      <td>NaN</td>\n",
       "      <td>63.33</td>\n",
       "      <td>56.00</td>\n",
       "      <td>73.00</td>\n",
       "      <td>83.00</td>\n",
       "      <td>69.40</td>\n",
       "      <td>42.00</td>\n",
       "      <td>69.00</td>\n",
       "    </tr>\n",
       "  </tbody>\n",
       "</table>\n",
       "<p>5 rows × 25 columns</p>\n",
       "</div>"
      ],
      "text/plain": [
       "Item Purchased  Backpack   Belt  Blouse  Boots   Coat  Dress  Gloves  Handbag  \\\n",
       "Location                                                                        \n",
       "Alabama             74.0  26.50    52.0  73.67  54.50  55.20   85.00    57.67   \n",
       "Alaska              74.6  76.75    67.5  56.00  45.50  74.50   66.33    46.00   \n",
       "Arizona             48.6  84.50    61.0    NaN  65.33  71.00   87.00    58.67   \n",
       "Arkansas            90.0  55.00    66.0  50.00  54.25  62.80   64.33    50.00   \n",
       "California          57.4  61.67    39.5  62.50  55.00  58.43   53.00    65.25   \n",
       "\n",
       "Item Purchased    Hat  Hoodie  ...  Scarf  Shirt  Shoes  Shorts  Skirt  \\\n",
       "Location                       ...                                       \n",
       "Alabama         76.00   53.00  ...  75.33   48.2  54.33   49.00  68.67   \n",
       "Alaska          52.67   56.50  ...  45.00   59.5  80.00   76.67  87.33   \n",
       "Arizona         87.00   66.67  ...  53.50   80.0  87.00   46.00  68.50   \n",
       "Arkansas        35.00   55.25  ...  67.50   59.0  59.50   95.00  44.50   \n",
       "California      49.00   56.00  ...  54.50   42.8    NaN   63.33  56.00   \n",
       "\n",
       "Item Purchased  Sneakers  Socks  Sunglasses  Sweater  T-shirt  \n",
       "Location                                                       \n",
       "Alabama            79.50  93.50       62.67    40.50    52.50  \n",
       "Alaska             73.33  74.25       83.00    50.33    56.75  \n",
       "Arizona            78.50  61.00       66.00    70.40    62.00  \n",
       "Arkansas           69.00  60.50       56.00    71.50    52.00  \n",
       "California         73.00  83.00       69.40    42.00    69.00  \n",
       "\n",
       "[5 rows x 25 columns]"
      ]
     },
     "execution_count": 38,
     "metadata": {},
     "output_type": "execute_result"
    }
   ],
   "source": [
    "pd.pivot_table(df,\n",
    "               values = \"Purchase Amount (USD)\",\n",
    "               index = \"Location\",\n",
    "               columns = \"Item Purchased\",\n",
    "               aggfunc = \"mean\"). \\\n",
    "               round(2).head(5)"
   ]
  },
  {
   "cell_type": "markdown",
   "metadata": {
    "id": "OO9sxXZ-7aMb"
   },
   "source": [
    "### Purchase Amounts by Clothing Item Size"
   ]
  },
  {
   "cell_type": "code",
   "execution_count": 40,
   "metadata": {
    "executionInfo": {
     "elapsed": 70,
     "status": "aborted",
     "timestamp": 1720493909656,
     "user": {
      "displayName": "Sahil Boricha",
      "userId": "14874923305631050682"
     },
     "user_tz": -330
    },
    "id": "-xKpbJOj6iS9"
   },
   "outputs": [
    {
     "data": {
      "text/plain": [
       "Size\n",
       "M     105167\n",
       "L      61667\n",
       "S      40468\n",
       "XL     25779\n",
       "Name: Purchase Amount (USD), dtype: int32"
      ]
     },
     "execution_count": 40,
     "metadata": {},
     "output_type": "execute_result"
    }
   ],
   "source": [
    "df.groupby(\"Size\")[\"Purchase Amount (USD)\"]. \\\n",
    "    sum().apply(lambda x: np.round(x, 2)). \\\n",
    "    sort_values(ascending=False)"
   ]
  },
  {
   "cell_type": "markdown",
   "metadata": {
    "id": "ZhXtrM-e8Xbz"
   },
   "source": [
    "Most of the customer purchasing power seems to be invested in **Medium** sized clothing items."
   ]
  },
  {
   "cell_type": "markdown",
   "metadata": {
    "id": "gPwLX6Cm8iui"
   },
   "source": [
    "### Purchasing Power of Payment Methods"
   ]
  },
  {
   "cell_type": "code",
   "execution_count": 43,
   "metadata": {
    "executionInfo": {
     "elapsed": 70,
     "status": "aborted",
     "timestamp": 1720493909657,
     "user": {
      "displayName": "Sahil Boricha",
      "userId": "14874923305631050682"
     },
     "user_tz": -330
    },
    "id": "_MeGjr_C7t78"
   },
   "outputs": [
    {
     "data": {
      "text/plain": [
       "Payment Method\n",
       "Credit Card      40310\n",
       "PayPal           40109\n",
       "Cash             40002\n",
       "Debit Card       38742\n",
       "Venmo            37374\n",
       "Bank Transfer    36544\n",
       "Name: Purchase Amount (USD), dtype: int32"
      ]
     },
     "execution_count": 43,
     "metadata": {},
     "output_type": "execute_result"
    }
   ],
   "source": [
    "df.groupby(\"Payment Method\")[\"Purchase Amount (USD)\"]. \\\n",
    "    sum().apply(lambda x: np.round(x, 2)). \\\n",
    "    sort_values(ascending=False)"
   ]
  },
  {
   "cell_type": "markdown",
   "metadata": {
    "id": "6L15XbHw_tXK"
   },
   "source": [
    "### Median Purchases by Frequency Type"
   ]
  },
  {
   "cell_type": "code",
   "execution_count": 46,
   "metadata": {
    "executionInfo": {
     "elapsed": 71,
     "status": "aborted",
     "timestamp": 1720493909658,
     "user": {
      "displayName": "Sahil Boricha",
      "userId": "14874923305631050682"
     },
     "user_tz": -330
    },
    "id": "EQmwIQkx99qJ"
   },
   "outputs": [
    {
     "data": {
      "text/plain": [
       "Frequency of Purchases\n",
       "Quarterly         28.0\n",
       "Fortnightly       26.0\n",
       "Weekly            26.0\n",
       "Monthly           25.0\n",
       "Annually          24.0\n",
       "Bi-Weekly         24.0\n",
       "Every 3 Months    24.0\n",
       "Name: Previous Purchases, dtype: float64"
      ]
     },
     "execution_count": 46,
     "metadata": {},
     "output_type": "execute_result"
    }
   ],
   "source": [
    "df.groupby(\"Frequency of Purchases\")[\"Previous Purchases\"]. \\\n",
    "    median(). \\\n",
    "    sort_values(ascending=False)"
   ]
  },
  {
   "cell_type": "markdown",
   "metadata": {
    "id": "nJkiNXcmAKF-"
   },
   "source": [
    "### Customer Rating Tendency by Season"
   ]
  },
  {
   "cell_type": "code",
   "execution_count": 48,
   "metadata": {
    "executionInfo": {
     "elapsed": 72,
     "status": "aborted",
     "timestamp": 1720493909659,
     "user": {
      "displayName": "Sahil Boricha",
      "userId": "14874923305631050682"
     },
     "user_tz": -330
    },
    "id": "zgsJ50NF_1tw"
   },
   "outputs": [
    {
     "data": {
      "text/plain": [
       "Season\n",
       "Fall      3.7\n",
       "Spring    3.8\n",
       "Summer    3.7\n",
       "Winter    3.7\n",
       "Name: Review Rating, dtype: float64"
      ]
     },
     "execution_count": 48,
     "metadata": {},
     "output_type": "execute_result"
    }
   ],
   "source": [
    "df.groupby(\"Season\")[\"Review Rating\"].median()"
   ]
  },
  {
   "cell_type": "markdown",
   "metadata": {
    "id": "f6Y1inGaA2mI"
   },
   "source": [
    "### Season Bar Plot"
   ]
  },
  {
   "cell_type": "code",
   "execution_count": 50,
   "metadata": {
    "executionInfo": {
     "elapsed": 74,
     "status": "aborted",
     "timestamp": 1720493909661,
     "user": {
      "displayName": "Sahil Boricha",
      "userId": "14874923305631050682"
     },
     "user_tz": -330
    },
    "id": "tnNjRSqaAN2m"
   },
   "outputs": [
    {
     "data": {
      "image/png": "[encoded data removed]",
      "text/plain": [
       "<Figure size 640x480 with 1 Axes>"
      ]
     },
     "metadata": {},
     "output_type": "display_data"
    }
   ],
   "source": [
    "df[\"Season\"]. \\\n",
    "    value_counts(). \\\n",
    "    plot(\n",
    "        kind=\"bar\",\n",
    "        color=[\"blue\", \"orange\",\n",
    "                \"green\", \"red\"])\n",
    "plt.ylabel(\"Count\")\n",
    "plt.ylim(950,1010)\n",
    "plt.show()"
   ]
  },
  {
   "cell_type": "markdown",
   "metadata": {
    "id": "TBYTqL6mByLd"
   },
   "source": [
    "Spring has almost 1000 counts. Fall and Winter counts are close in magnitude. Summer purchases seem to be relatively the lowest."
   ]
  },
  {
   "cell_type": "markdown",
   "metadata": {
    "id": "1zLe5IKtCQTQ"
   },
   "source": [
    "### Distribution of Purchases by Category"
   ]
  },
  {
   "cell_type": "code",
   "execution_count": 53,
   "metadata": {
    "executionInfo": {
     "elapsed": 76,
     "status": "aborted",
     "timestamp": 1720493909664,
     "user": {
      "displayName": "Sahil Boricha",
      "userId": "14874923305631050682"
     },
     "user_tz": -330
    },
    "id": "wCW7jImmBAct"
   },
   "outputs": [
    {
     "data": {
      "image/png": "[encoded data removed]",
      "text/plain": [
       "<Figure size 640x480 with 1 Axes>"
      ]
     },
     "metadata": {},
     "output_type": "display_data"
    }
   ],
   "source": [
    "df[\"Category\"]. \\\n",
    "    value_counts(). \\\n",
    "    plot(\n",
    "        kind=\"pie\",\n",
    "        autopct='%1.1f%%',\n",
    "        explode=(0.1, 0.1, 0.1, 0.1))\n",
    "plt.title(\"Distribution of Purchases by Category\")\n",
    "plt.show()"
   ]
  },
  {
   "cell_type": "markdown",
   "metadata": {
    "id": "oO40YU42CuZZ"
   },
   "source": [
    "- Clothing seems to be purchased the most.\n",
    "- Outerwear seems to be purchased the least."
   ]
  },
  {
   "cell_type": "markdown",
   "metadata": {
    "id": "9-bl7gZ-DFLA"
   },
   "source": [
    "### Review Rating Tendency by Gender"
   ]
  },
  {
   "cell_type": "code",
   "execution_count": 56,
   "metadata": {
    "colab": {
     "base_uri": "https://localhost:8080/",
     "height": 211
    },
    "executionInfo": {
     "elapsed": 76,
     "status": "error",
     "timestamp": 1720493909664,
     "user": {
      "displayName": "Sahil Boricha",
      "userId": "14874923305631050682"
     },
     "user_tz": -330
    },
    "id": "iCaYTK2mCZZB",
    "outputId": "d7fb1c6b-cd0c-4538-81d2-bb31ce7962ab"
   },
   "outputs": [
    {
     "data": {
      "image/png": "[encoded data removed]",
      "text/plain": [
       "<Figure size 640x480 with 1 Axes>"
      ]
     },
     "metadata": {},
     "output_type": "display_data"
    }
   ],
   "source": [
    "df.boxplot(column=\"Review Rating\",\n",
    "           by=\"Gender\")\n",
    "plt.title(\"Review Rating Tendency by Gender\")\n",
    "plt.xlabel(\"Gender\")\n",
    "plt.ylabel(\"Review Rating\")\n",
    "# plt.legend()\n",
    "plt.show()"
   ]
  },
  {
   "cell_type": "markdown",
   "metadata": {
    "id": "2B68PubpDmXn"
   },
   "source": [
    "- The median rating for Males seem to be slightly higher than Females.\n",
    "- It can be observed that the interquartile range for the male review rsting tendency is wider."
   ]
  },
  {
   "cell_type": "markdown",
   "metadata": {
    "id": "_KSSHIx6EHjs"
   },
   "source": [
    "### Histogram of Purchasing Amount (USD)"
   ]
  },
  {
   "cell_type": "code",
   "execution_count": 59,
   "metadata": {
    "executionInfo": {
     "elapsed": 72,
     "status": "aborted",
     "timestamp": 1720493909665,
     "user": {
      "displayName": "Sahil Boricha",
      "userId": "14874923305631050682"
     },
     "user_tz": -330
    },
    "id": "dunpAIbzDd0G"
   },
   "outputs": [
    {
     "data": {
      "image/png": "[encoded data removed]",
      "text/plain": [
       "<Figure size 640x480 with 1 Axes>"
      ]
     },
     "metadata": {},
     "output_type": "display_data"
    }
   ],
   "source": [
    "sns.histplot(x=\"Purchase Amount (USD)\",\n",
    "             data=df, bins=30)\n",
    "plt.title(\"Histogram of Purchase Amount (USD)\")\n",
    "plt.xlabel(\"Purchase Amount (USD)\")\n",
    "plt.ylabel(\"Counts\")\n",
    "plt.show()"
   ]
  },
  {
   "cell_type": "markdown",
   "metadata": {
    "id": "ZWol29FYEno4"
   },
   "source": [
    "### Reviewing Rating by Color"
   ]
  },
  {
   "cell_type": "code",
   "execution_count": 61,
   "metadata": {
    "executionInfo": {
     "elapsed": 71,
     "status": "aborted",
     "timestamp": 1720493909665,
     "user": {
      "displayName": "Sahil Boricha",
      "userId": "14874923305631050682"
     },
     "user_tz": -330
    },
    "id": "C2TEJqk3EQ7c"
   },
   "outputs": [
    {
     "data": {
      "image/png": "[encoded data removed]",
      "text/plain": [
       "<Figure size 640x480 with 1 Axes>"
      ]
     },
     "metadata": {},
     "output_type": "display_data"
    }
   ],
   "source": [
    "df.groupby(\"Color\")[\"Review Rating\"]. \\\n",
    "    median().plot(kind=\"bar\")\n",
    "plt.title(\"Median Review Rating by Color\")\n",
    "plt.xlabel(\"Color\")\n",
    "plt.ylabel(\"Review Rating\")\n",
    "plt.ylim(3.0, 4.15)\n",
    "plt.show()"
   ]
  },
  {
   "cell_type": "markdown",
   "metadata": {
    "id": "6N4SSpM2FYtK"
   },
   "source": [
    "### Pie Chart of Payment Method Purchasing Amount"
   ]
  },
  {
   "cell_type": "code",
   "execution_count": 63,
   "metadata": {
    "executionInfo": {
     "elapsed": 72,
     "status": "aborted",
     "timestamp": 1720493909666,
     "user": {
      "displayName": "Sahil Boricha",
      "userId": "14874923305631050682"
     },
     "user_tz": -330
    },
    "id": "tCIcmE52E-v5"
   },
   "outputs": [
    {
     "data": {
      "image/png": "[encoded data removed]",
      "text/plain": [
       "<Figure size 640x480 with 1 Axes>"
      ]
     },
     "metadata": {},
     "output_type": "display_data"
    }
   ],
   "source": [
    "temp_df = df.groupby(\"Payment Method\")[\"Purchase Amount (USD)\"].sum()\n",
    "temp_df.plot(kind=\"pie\",\n",
    "             autopct='%1.1f%%',\n",
    "             explode=(0.1, 0.1,\n",
    "                      0.1, 0.1,\n",
    "                      0.1, 0.1))\n",
    "plt.show()"
   ]
  },
  {
   "cell_type": "markdown",
   "metadata": {
    "id": "dup8B-bdbSPV"
   },
   "source": [
    "### Purchase Amount by Season"
   ]
  },
  {
   "cell_type": "code",
   "execution_count": 65,
   "metadata": {
    "executionInfo": {
     "elapsed": 71,
     "status": "aborted",
     "timestamp": 1720493909666,
     "user": {
      "displayName": "Sahil Boricha",
      "userId": "14874923305631050682"
     },
     "user_tz": -330
    },
    "id": "AEu3u-UubEyD"
   },
   "outputs": [
    {
     "data": {
      "image/png": "[encoded data removed]",
      "text/plain": [
       "<Figure size 640x480 with 1 Axes>"
      ]
     },
     "metadata": {},
     "output_type": "display_data"
    }
   ],
   "source": [
    "df.groupby(\"Season\")[\"Purchase Amount (USD)\"]. \\\n",
    "    median().plot(kind=\"pie\",\n",
    "               autopct='%1.1f%%',\n",
    "               explode=(0.1, 0.1,\n",
    "                        0.1, 0.1))\n",
    "plt.show()"
   ]
  },
  {
   "cell_type": "code",
   "execution_count": null,
   "metadata": {
    "executionInfo": {
     "elapsed": 72,
     "status": "aborted",
     "timestamp": 1720493909666,
     "user": {
      "displayName": "Sahil Boricha",
      "userId": "14874923305631050682"
     },
     "user_tz": -330
    },
    "id": "LwvCly_ybZnw"
   },
   "outputs": [],
   "source": []
  }
 ],
 "metadata": {
  "colab": {
   "provenance": [],
   "toc_visible": true
  },
  "kernelspec": {
   "display_name": "Python 3 (ipykernel)",
   "language": "python",
   "name": "python3"
  },
  "language_info": {
   "codemirror_mode": {
    "name": "ipython",
    "version": 3
   },
   "file_extension": ".py",
   "mimetype": "text/x-python",
   "name": "python",
   "nbconvert_exporter": "python",
   "pygments_lexer": "ipython3",
   "version": "3.12.4"
  }
 },
 "nbformat": 4,
 "nbformat_minor": 4
}
